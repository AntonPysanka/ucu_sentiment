{
 "cells": [
  {
   "cell_type": "markdown",
   "metadata": {
    "deletable": true,
    "editable": true
   },
   "source": [
    "## External Applications"
   ]
  },
  {
   "cell_type": "markdown",
   "metadata": {
    "deletable": true,
    "editable": true,
    "slideshow": {
     "slide_type": "slide"
    }
   },
   "source": [
    "<hr style=\"height: 1px; background-color: #808080\">\n",
    "## 1. FastText overview\n",
    "### What is it?\n",
    "\n",
    "FastText is a linear model with a rank constraint and a fast loss approximation.<br>\n",
    "It can obtain the accuracy comparable to deep learning classifiers.<br>\n",
    "\n",
    "But it is way faster:\n",
    "- FastText can train on more than one 200M words in less than five minutes using a standard multicore CPU\n",
    "- Classify nearly 150K reviews in less than a minute"
   ]
  },
  {
   "cell_type": "markdown",
   "metadata": {
    "deletable": true,
    "editable": true,
    "slideshow": {
     "slide_type": "slide"
    }
   },
   "source": [
    "### Architecture\n",
    "\n",
    "<img src=\"https://raw.githubusercontent.com/akruchko/test/master/1_model_architecture_of_fastText.PNG\">\n",
    "The model architecture of fastText for a sentence with N ngram features x1, . . . , xN .<br> The features are embedded and averaged to form the hidden variable$^1$\n",
    "\n",
    "<hr style=\"height: 1px; width: 100px; background-color: #808080\"; align=\"left\"> <br>\n",
    "$^1$ https://arxiv.org/pdf/1607.01759.pdf"
   ]
  },
  {
   "cell_type": "markdown",
   "metadata": {
    "deletable": true,
    "editable": true
   },
   "source": [
    "### Algorithm\n",
    "\n",
    "FastText uses the softmax function $f$ to compute the probability distribution over the predefined classes. For a set of N documents, this leads to minimizing the negative loglikelihood over the classes:\n",
    "\n",
    "\n",
    "\\begin{align}\n",
    "\\ -\\frac{1}{N} \\sum_{n=1}^N y_n log(f(BAx_n))\n",
    "\\end{align}\n",
    "$x_n$ - the normalized bag of features of the n-th document, <br>\n",
    "$y_n$ - the label, <br>\n",
    "$A, B$ - weight matrices\n",
    "\n",
    "Optimization is performing using stochastic gradient descent and a linearly decaying learning rate."
   ]
  },
  {
   "cell_type": "markdown",
   "metadata": {
    "deletable": true,
    "editable": true
   },
   "source": [
    "<hr style=\"height: 1px; background-color: #808080\">\n",
    "### Data preprocessing for fastText\n",
    "- remove nonprintable characters\n",
    "- fix $n't$, $'re$, $'s$ and other cases\n",
    "- remove punctuation and digits\n",
    "- Porter stemming"
   ]
  },
  {
   "cell_type": "code",
   "execution_count": 1,
   "metadata": {
    "collapsed": true,
    "deletable": true,
    "editable": true
   },
   "outputs": [],
   "source": [
    "import pandas as pd\n",
    "\n",
    "from itertools import product\n",
    "\n",
    "from string import punctuation, digits\n",
    "from nltk.stem import PorterStemmer\n",
    "\n",
    "from sklearn.model_selection import train_test_split\n",
    "from sklearn.metrics import accuracy_score, f1_score, classification_report"
   ]
  },
  {
   "cell_type": "code",
   "execution_count": 2,
   "metadata": {
    "collapsed": true,
    "deletable": true,
    "editable": true
   },
   "outputs": [],
   "source": [
    "from fasttext import supervised"
   ]
  },
  {
   "cell_type": "code",
   "execution_count": 3,
   "metadata": {
    "collapsed": true,
    "deletable": true,
    "editable": true
   },
   "outputs": [],
   "source": [
    "df_train = pd.read_csv('../data/movie_reviews.csv')\n",
    "df_test = pd.read_csv('../data/test.csv')"
   ]
  },
  {
   "cell_type": "code",
   "execution_count": 4,
   "metadata": {
    "collapsed": true,
    "deletable": true,
    "editable": true
   },
   "outputs": [],
   "source": [
    "# prepare punctuation and digits list for removal\n",
    "translator = str.maketrans('', '', punctuation + digits)\n",
    "\n",
    "# basic preprocessing:\n",
    "def clean_data(df, col):\n",
    "    df['clean_text'] = df[col].str.replace('\\n', '').str.replace('\\r', '').str.replace('\\t', '')\n",
    "    df.clean_text = df.clean_text.str.replace(\"n't\", \" not\").str.replace(\"'re\", \" are\").str.replace(\"'s\", \" s\")\n",
    "    df.clean_text = df.clean_text.str.replace(\"'ve\", \" have\").str.replace(\"'ll\", \" will\").str.replace(\"'d\", \" d\")\n",
    "    df.clean_text = df.clean_text.str.translate(translator).str.strip().str.lower()\n",
    "    return df"
   ]
  },
  {
   "cell_type": "code",
   "execution_count": 5,
   "metadata": {
    "collapsed": true,
    "deletable": true,
    "editable": true
   },
   "outputs": [],
   "source": [
    "df_train = clean_data(df_train, 'text')\n",
    "df_test = clean_data(df_test, 'text')"
   ]
  },
  {
   "cell_type": "code",
   "execution_count": 6,
   "metadata": {
    "collapsed": false,
    "deletable": true,
    "editable": true
   },
   "outputs": [
    {
     "name": "stdout",
     "output_type": "stream",
     "text": [
      "before:\n",
      " To an entire generation of filmgoers, it just might represent the most significant leap in storytelling that they will ever see...\n",
      "after:\n",
      " to an entire generation of filmgoers it just might represent the most significant leap in storytelling that they will ever see\n"
     ]
    }
   ],
   "source": [
    "print('before:\\n', df_train.text[0])\n",
    "print('after:\\n', df_train.clean_text[0])"
   ]
  },
  {
   "cell_type": "code",
   "execution_count": 7,
   "metadata": {
    "collapsed": true,
    "deletable": true,
    "editable": true
   },
   "outputs": [],
   "source": [
    "# splitting on train and validation\n",
    "df_train2, df_val = train_test_split(df_train[['label', 'clean_text']], test_size=0.2, random_state=42)"
   ]
  },
  {
   "cell_type": "code",
   "execution_count": 8,
   "metadata": {
    "collapsed": true,
    "deletable": true,
    "editable": true
   },
   "outputs": [],
   "source": [
    "# Since fastText can be trained only from text files, we should mark labels. The default is `__label__` but can be custom.\n",
    "df_train2['ft_label'] = df_train2['label'].apply(lambda x: '__label__1 ' if x == 1 else '__label__0 ')\n",
    "df_train2[['ft_label', 'clean_text']].to_csv('../data/train_fastText.csv', index=False, header=False)"
   ]
  },
  {
   "cell_type": "markdown",
   "metadata": {
    "deletable": true,
    "editable": true
   },
   "source": [
    "<hr style=\"height: 1px; background-color: #808080\">\n",
    "## 3. Parameters overview and the model training"
   ]
  },
  {
   "cell_type": "markdown",
   "metadata": {
    "deletable": true,
    "editable": true
   },
   "source": [
    "### Parameters overview\n",
    "\n",
    "- `lr` - learning rate. Default: **0.1**.\n",
    "- `dim` - size of word vectors in the hidden unit. Default: **100**. Should be less for small datasets and the number of labels.\n",
    "- `epoch` - number of epochs. Default: **5**. Higher for small learning rates.\n",
    "- `min_count` - minimal number of word occurences. Default: **1**. 5 or higher to avoid overfitting.\n",
    "- `word_ngrams` - max length of word ngram. Default: **1**. Higher order ngrams lead to overfitting on small datasets. if value greater than 1 learning rate and epoch should be revised.\n",
    "- `bucket` - number of buckets. Default: **2000000**. Developers recommend to use lower values for small datasets (ex. 100K).\n",
    "- `minn` - min length of char ngram. Default: **0**.\n",
    "- `maxn` - max length of char ngram. Default: **0**."
   ]
  },
  {
   "cell_type": "markdown",
   "metadata": {
    "deletable": true,
    "editable": true
   },
   "source": [
    "### The model training"
   ]
  },
  {
   "cell_type": "code",
   "execution_count": 9,
   "metadata": {
    "collapsed": true,
    "deletable": true,
    "editable": true
   },
   "outputs": [],
   "source": [
    "def get_score(df, clf, label='label', text='clean_text', model_name='../data/fastText'):\n",
    "  \n",
    "    prediction = clf.predict_proba(list(df[text]))\n",
    "    prediction = [int(item[0][0]) for item in prediction]\n",
    "\n",
    "    return [round(accuracy_score(list(df[label]), prediction), 4), \n",
    "            round(f1_score(list(df[label]), prediction, pos_label=0), 4)]"
   ]
  },
  {
   "cell_type": "code",
   "execution_count": 10,
   "metadata": {
    "collapsed": false,
    "deletable": true,
    "editable": true
   },
   "outputs": [
    {
     "name": "stdout",
     "output_type": "stream",
     "text": [
      "CPU times: user 32.2 s, sys: 1.01 s, total: 33.2 s\n",
      "Wall time: 5.82 s\n"
     ]
    }
   ],
   "source": [
    "%%time\n",
    "# Let's train the model with the predefined parameters\n",
    "clf = supervised('../data/train_fastText.csv', '../data/fastText', label_prefix='__label__', \n",
    "                 lr=0.01, epoch=10, min_count=5)"
   ]
  },
  {
   "cell_type": "code",
   "execution_count": 11,
   "metadata": {
    "collapsed": false,
    "deletable": true,
    "editable": true
   },
   "outputs": [
    {
     "name": "stdout",
     "output_type": "stream",
     "text": [
      "test accuracy: 0.7824 test f1: 0.761\n"
     ]
    }
   ],
   "source": [
    "acc, f1 = get_score(df_test, clf)\n",
    "print('test accuracy:', round(acc, 4), 'test f1:', round(f1, 4))"
   ]
  },
  {
   "cell_type": "markdown",
   "metadata": {
    "deletable": true,
    "editable": true
   },
   "source": [
    "## Conclusions\n",
    "\n",
    "- Really fast: representing sentences with bag of words and bag of n-grams with hashing trick; a hierachical softmax\n",
    "- It was developed mainly for large datasets (ex. 1 billion words). In case of small datasets hyperparameters should be tuned carefully to avoid overfitting or you shoud get more data."
   ]
  },
  {
   "cell_type": "markdown",
   "metadata": {
    "deletable": true,
    "editable": true
   },
   "source": [
    "## 2. Vader. No ML needed."
   ]
  },
  {
   "cell_type": "code",
   "execution_count": 12,
   "metadata": {
    "collapsed": false,
    "deletable": true,
    "editable": true
   },
   "outputs": [
    {
     "name": "stdout",
     "output_type": "stream",
     "text": [
      "Requirement already satisfied: vaderSentiment in /Users/alexruppelt/anaconda/envs/ucu-sentiment/lib/python3.5/site-packages\r\n"
     ]
    }
   ],
   "source": [
    "!pip install vaderSentiment"
   ]
  },
  {
   "cell_type": "code",
   "execution_count": 13,
   "metadata": {
    "collapsed": false,
    "deletable": true,
    "editable": true
   },
   "outputs": [
    {
     "name": "stdout",
     "output_type": "stream",
     "text": [
      "VADER is smart, handsome, and funny.----------------------------- {'neg': 0.0, 'neu': 0.254, 'pos': 0.746, 'compound': 0.8316}\n",
      "VADER is not smart, handsome, nor funny.------------------------- {'neg': 0.646, 'neu': 0.354, 'pos': 0.0, 'compound': -0.7424}\n",
      "VADER is smart, handsome, and funny!----------------------------- {'neg': 0.0, 'neu': 0.248, 'pos': 0.752, 'compound': 0.8439}\n",
      "VADER is very smart, handsome, and funny.------------------------ {'neg': 0.0, 'neu': 0.299, 'pos': 0.701, 'compound': 0.8545}\n",
      "VADER is VERY SMART, handsome, and FUNNY.------------------------ {'neg': 0.0, 'neu': 0.246, 'pos': 0.754, 'compound': 0.9227}\n",
      "VADER is VERY SMART, handsome, and FUNNY!!!---------------------- {'neg': 0.0, 'neu': 0.233, 'pos': 0.767, 'compound': 0.9342}\n",
      "VADER is VERY SMART, uber handsome, and FRIGGIN FUNNY!!!--------- {'neg': 0.0, 'neu': 0.294, 'pos': 0.706, 'compound': 0.9469}\n",
      "The book was good.----------------------------------------------- {'neg': 0.0, 'neu': 0.508, 'pos': 0.492, 'compound': 0.4404}\n",
      "The book was kind of good.--------------------------------------- {'neg': 0.0, 'neu': 0.657, 'pos': 0.343, 'compound': 0.3832}\n",
      "The plot was good, but the characters are uncompelling and the dialog is not great. {'neg': 0.327, 'neu': 0.579, 'pos': 0.094, 'compound': -0.7042}\n",
      "At least it isn't a horrible book.------------------------------- {'neg': 0.0, 'neu': 0.637, 'pos': 0.363, 'compound': 0.431}\n",
      "Make sure you :) or :D today!------------------------------------ {'neg': 0.0, 'neu': 0.294, 'pos': 0.706, 'compound': 0.8633}\n",
      "Today SUX!------------------------------------------------------- {'neg': 0.779, 'neu': 0.221, 'pos': 0.0, 'compound': -0.5461}\n",
      "Today only kinda sux! But I'll get by, lol----------------------- {'neg': 0.179, 'neu': 0.569, 'pos': 0.251, 'compound': 0.2228}\n"
     ]
    }
   ],
   "source": [
    "from vaderSentiment.vaderSentiment import SentimentIntensityAnalyzer\n",
    "    #note: depending on how you installed (e.g., using source code download versus pip install), you may need to import like this:\n",
    "    #from vaderSentiment import SentimentIntensityAnalyzer\n",
    "\n",
    "# --- examples -------\n",
    "sentences = [\"VADER is smart, handsome, and funny.\",      # positive sentence example\n",
    "            \"VADER is not smart, handsome, nor funny.\",   # negation sentence example\n",
    "            \"VADER is smart, handsome, and funny!\",       # punctuation emphasis handled correctly (sentiment intensity adjusted)\n",
    "            \"VADER is very smart, handsome, and funny.\",  # booster words handled correctly (sentiment intensity adjusted)\n",
    "            \"VADER is VERY SMART, handsome, and FUNNY.\",  # emphasis for ALLCAPS handled\n",
    "            \"VADER is VERY SMART, handsome, and FUNNY!!!\",# combination of signals - VADER appropriately adjusts intensity\n",
    "            \"VADER is VERY SMART, uber handsome, and FRIGGIN FUNNY!!!\",# booster words & punctuation make this close to ceiling for score\n",
    "            \"The book was good.\",                                     # positive sentence\n",
    "            \"The book was kind of good.\",                 # qualified positive sentence is handled correctly (intensity adjusted)\n",
    "            \"The plot was good, but the characters are uncompelling and the dialog is not great.\", # mixed negation sentence\n",
    "            \"At least it isn't a horrible book.\",         # negated negative sentence with contraction\n",
    "            \"Make sure you :) or :D today!\",              # emoticons handled\n",
    "            \"Today SUX!\",                                 # negative slang with capitalization emphasis\n",
    "            \"Today only kinda sux! But I'll get by, lol\"  # mixed sentiment example with slang and constrastive conjunction \"but\"\n",
    "             ]\n",
    "\n",
    "analyzer = SentimentIntensityAnalyzer()\n",
    "for sentence in sentences:\n",
    "    vs = analyzer.polarity_scores(sentence)\n",
    "    print(\"{:-<65} {}\".format(sentence, str(vs)))"
   ]
  },
  {
   "cell_type": "code",
   "execution_count": 14,
   "metadata": {
    "collapsed": false,
    "deletable": true,
    "editable": true
   },
   "outputs": [],
   "source": [
    "text_test = list(df_test['clean_text'])\n",
    "label_test = df_test['label']"
   ]
  },
  {
   "cell_type": "code",
   "execution_count": 15,
   "metadata": {
    "collapsed": false,
    "deletable": true,
    "editable": true
   },
   "outputs": [],
   "source": [
    "analyzer = SentimentIntensityAnalyzer()\n",
    "df_test['vader'] = df_test['clean_text'].apply(lambda x: analyzer.polarity_scores(x)['compound'])"
   ]
  },
  {
   "cell_type": "code",
   "execution_count": 17,
   "metadata": {
    "collapsed": false,
    "deletable": true,
    "editable": true
   },
   "outputs": [
    {
     "data": {
      "text/html": [
       "<div>\n",
       "<table border=\"1\" class=\"dataframe\">\n",
       "  <thead>\n",
       "    <tr style=\"text-align: right;\">\n",
       "      <th></th>\n",
       "      <th>label</th>\n",
       "      <th>text</th>\n",
       "      <th>clean_text</th>\n",
       "      <th>vader</th>\n",
       "    </tr>\n",
       "  </thead>\n",
       "  <tbody>\n",
       "    <tr>\n",
       "      <th>0</th>\n",
       "      <td>0</td>\n",
       "      <td>it's so laddish and juvenile , only teenage bo...</td>\n",
       "      <td>it s so laddish and juvenile  only teenage boy...</td>\n",
       "      <td>0.4404</td>\n",
       "    </tr>\n",
       "    <tr>\n",
       "      <th>1</th>\n",
       "      <td>0</td>\n",
       "      <td>exploitative and largely devoid of the depth o...</td>\n",
       "      <td>exploitative and largely devoid of the depth o...</td>\n",
       "      <td>0.0000</td>\n",
       "    </tr>\n",
       "    <tr>\n",
       "      <th>2</th>\n",
       "      <td>0</td>\n",
       "      <td>[garbus] discards the potential for pathologic...</td>\n",
       "      <td>garbus discards the potential for pathological...</td>\n",
       "      <td>-0.2500</td>\n",
       "    </tr>\n",
       "    <tr>\n",
       "      <th>3</th>\n",
       "      <td>0</td>\n",
       "      <td>a visually flashy but narratively opaque and e...</td>\n",
       "      <td>a visually flashy but narratively opaque and e...</td>\n",
       "      <td>0.0000</td>\n",
       "    </tr>\n",
       "    <tr>\n",
       "      <th>4</th>\n",
       "      <td>0</td>\n",
       "      <td>the story is also as unoriginal as they come ,...</td>\n",
       "      <td>the story is also as unoriginal as they come  ...</td>\n",
       "      <td>0.5367</td>\n",
       "    </tr>\n",
       "  </tbody>\n",
       "</table>\n",
       "</div>"
      ],
      "text/plain": [
       "   label                                               text  \\\n",
       "0      0  it's so laddish and juvenile , only teenage bo...   \n",
       "1      0  exploitative and largely devoid of the depth o...   \n",
       "2      0  [garbus] discards the potential for pathologic...   \n",
       "3      0  a visually flashy but narratively opaque and e...   \n",
       "4      0  the story is also as unoriginal as they come ,...   \n",
       "\n",
       "                                          clean_text   vader  \n",
       "0  it s so laddish and juvenile  only teenage boy...  0.4404  \n",
       "1  exploitative and largely devoid of the depth o...  0.0000  \n",
       "2  garbus discards the potential for pathological... -0.2500  \n",
       "3  a visually flashy but narratively opaque and e...  0.0000  \n",
       "4  the story is also as unoriginal as they come  ...  0.5367  "
      ]
     },
     "execution_count": 17,
     "metadata": {},
     "output_type": "execute_result"
    }
   ],
   "source": [
    "df_test.head()"
   ]
  },
  {
   "cell_type": "code",
   "execution_count": 18,
   "metadata": {
    "collapsed": false,
    "deletable": true,
    "editable": true
   },
   "outputs": [],
   "source": [
    "df_test_new = df_test[df_test['vader']!=0]"
   ]
  },
  {
   "cell_type": "code",
   "execution_count": 19,
   "metadata": {
    "collapsed": false,
    "deletable": true,
    "editable": true
   },
   "outputs": [
    {
     "name": "stderr",
     "output_type": "stream",
     "text": [
      "/Users/alexruppelt/anaconda/envs/ucu-sentiment/lib/python3.5/site-packages/ipykernel/__main__.py:1: SettingWithCopyWarning: \n",
      "A value is trying to be set on a copy of a slice from a DataFrame.\n",
      "Try using .loc[row_indexer,col_indexer] = value instead\n",
      "\n",
      "See the caveats in the documentation: http://pandas.pydata.org/pandas-docs/stable/indexing.html#indexing-view-versus-copy\n",
      "  if __name__ == '__main__':\n"
     ]
    }
   ],
   "source": [
    "df_test_new['predict'] = df_test_new['vader'].apply(lambda x: 1 if x>0 else 0)"
   ]
  },
  {
   "cell_type": "code",
   "execution_count": 20,
   "metadata": {
    "collapsed": false,
    "deletable": true,
    "editable": true
   },
   "outputs": [
    {
     "data": {
      "text/html": [
       "<div>\n",
       "<table border=\"1\" class=\"dataframe\">\n",
       "  <thead>\n",
       "    <tr style=\"text-align: right;\">\n",
       "      <th></th>\n",
       "      <th>label</th>\n",
       "      <th>text</th>\n",
       "      <th>clean_text</th>\n",
       "      <th>vader</th>\n",
       "      <th>predict</th>\n",
       "    </tr>\n",
       "  </thead>\n",
       "  <tbody>\n",
       "    <tr>\n",
       "      <th>0</th>\n",
       "      <td>0</td>\n",
       "      <td>it's so laddish and juvenile , only teenage bo...</td>\n",
       "      <td>it s so laddish and juvenile  only teenage boy...</td>\n",
       "      <td>0.4404</td>\n",
       "      <td>1</td>\n",
       "    </tr>\n",
       "    <tr>\n",
       "      <th>2</th>\n",
       "      <td>0</td>\n",
       "      <td>[garbus] discards the potential for pathologic...</td>\n",
       "      <td>garbus discards the potential for pathological...</td>\n",
       "      <td>-0.2500</td>\n",
       "      <td>0</td>\n",
       "    </tr>\n",
       "    <tr>\n",
       "      <th>4</th>\n",
       "      <td>0</td>\n",
       "      <td>the story is also as unoriginal as they come ,...</td>\n",
       "      <td>the story is also as unoriginal as they come  ...</td>\n",
       "      <td>0.5367</td>\n",
       "      <td>1</td>\n",
       "    </tr>\n",
       "    <tr>\n",
       "      <th>7</th>\n",
       "      <td>0</td>\n",
       "      <td>unfortunately the story and the actors are ser...</td>\n",
       "      <td>unfortunately the story and the actors are ser...</td>\n",
       "      <td>-0.3400</td>\n",
       "      <td>0</td>\n",
       "    </tr>\n",
       "    <tr>\n",
       "      <th>8</th>\n",
       "      <td>0</td>\n",
       "      <td>all the more disquieting for its relatively go...</td>\n",
       "      <td>all the more disquieting for its relatively go...</td>\n",
       "      <td>-0.3612</td>\n",
       "      <td>0</td>\n",
       "    </tr>\n",
       "  </tbody>\n",
       "</table>\n",
       "</div>"
      ],
      "text/plain": [
       "   label                                               text  \\\n",
       "0      0  it's so laddish and juvenile , only teenage bo...   \n",
       "2      0  [garbus] discards the potential for pathologic...   \n",
       "4      0  the story is also as unoriginal as they come ,...   \n",
       "7      0  unfortunately the story and the actors are ser...   \n",
       "8      0  all the more disquieting for its relatively go...   \n",
       "\n",
       "                                          clean_text   vader  predict  \n",
       "0  it s so laddish and juvenile  only teenage boy...  0.4404        1  \n",
       "2  garbus discards the potential for pathological... -0.2500        0  \n",
       "4  the story is also as unoriginal as they come  ...  0.5367        1  \n",
       "7  unfortunately the story and the actors are ser... -0.3400        0  \n",
       "8  all the more disquieting for its relatively go... -0.3612        0  "
      ]
     },
     "execution_count": 20,
     "metadata": {},
     "output_type": "execute_result"
    }
   ],
   "source": [
    "df_test_new.head()"
   ]
  },
  {
   "cell_type": "code",
   "execution_count": 21,
   "metadata": {
    "collapsed": false,
    "deletable": true,
    "editable": true
   },
   "outputs": [
    {
     "name": "stdout",
     "output_type": "stream",
     "text": [
      "             precision    recall  f1-score   support\n",
      "\n",
      "          0       0.69      0.49      0.57      4394\n",
      "          1       0.62      0.80      0.70      4651\n",
      "\n",
      "avg / total       0.66      0.65      0.64      9045\n",
      "\n"
     ]
    }
   ],
   "source": [
    "from sklearn.metrics import classification_report\n",
    "print(classification_report(df_test_new['label'], df_test_new['predict']))"
   ]
  },
  {
   "cell_type": "markdown",
   "metadata": {
    "deletable": true,
    "editable": true
   },
   "source": [
    "## 3. OpenAI Sentiment Neuron.\n",
    "\n",
    "See more at [https://blog.openai.com/unsupervised-sentiment-neuron/](https://blog.openai.com/unsupervised-sentiment-neuron/)\n",
    "\n",
    "There is also GitHub code available at [Github](https://github.com/openai/generating-reviews-discovering-sentiment)"
   ]
  }
 ],
 "metadata": {
  "kernelspec": {
   "display_name": "Python 3",
   "language": "python",
   "name": "python3"
  },
  "language_info": {
   "codemirror_mode": {
    "name": "ipython",
    "version": 3
   },
   "file_extension": ".py",
   "mimetype": "text/x-python",
   "name": "python",
   "nbconvert_exporter": "python",
   "pygments_lexer": "ipython3",
   "version": "3.5.3"
  }
 },
 "nbformat": 4,
 "nbformat_minor": 2
}

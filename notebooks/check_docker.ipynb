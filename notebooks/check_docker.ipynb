{
 "cells": [
  {
   "cell_type": "code",
   "execution_count": 2,
   "metadata": {
    "collapsed": true,
    "deletable": true,
    "editable": true
   },
   "outputs": [],
   "source": [
    "import tensorflow"
   ]
  },
  {
   "cell_type": "code",
   "execution_count": 3,
   "metadata": {
    "collapsed": false,
    "deletable": true,
    "editable": true
   },
   "outputs": [
    {
     "name": "stderr",
     "output_type": "stream",
     "text": [
      "Using TensorFlow backend.\n"
     ]
    }
   ],
   "source": [
    "import keras"
   ]
  },
  {
   "cell_type": "code",
   "execution_count": 4,
   "metadata": {
    "collapsed": false,
    "deletable": true,
    "editable": true
   },
   "outputs": [
    {
     "name": "stdout",
     "output_type": "stream",
     "text": [
      "# packages in environment at /Users/alexruppelt/anaconda/envs/ucu-sentiment:\n",
      "#\n",
      "pandas                    0.19.2              np112py35_1  \n"
     ]
    }
   ],
   "source": [
    "!conda list pandas"
   ]
  },
  {
   "cell_type": "code",
   "execution_count": 5,
   "metadata": {
    "collapsed": false,
    "deletable": true,
    "editable": true
   },
   "outputs": [
    {
     "name": "stdout",
     "output_type": "stream",
     "text": [
      "# packages in environment at /Users/alexruppelt/anaconda/envs/ucu-sentiment:\n",
      "#\n",
      "scikit-learn              0.18.1              np112py35_1  \n"
     ]
    }
   ],
   "source": [
    "!conda list scikit-learn"
   ]
  },
  {
   "cell_type": "code",
   "execution_count": 6,
   "metadata": {
    "collapsed": false,
    "deletable": true,
    "editable": true
   },
   "outputs": [
    {
     "name": "stdout",
     "output_type": "stream",
     "text": [
      "# packages in environment at /Users/alexruppelt/anaconda/envs/ucu-sentiment:\n",
      "#\n",
      "statsmodels               0.8.0               np112py35_0  \n"
     ]
    }
   ],
   "source": [
    "!conda list statsmodels"
   ]
  },
  {
   "cell_type": "code",
   "execution_count": 7,
   "metadata": {
    "collapsed": true,
    "deletable": true,
    "editable": true
   },
   "outputs": [],
   "source": [
    "import theano"
   ]
  },
  {
   "cell_type": "code",
   "execution_count": 8,
   "metadata": {
    "collapsed": true,
    "deletable": true,
    "editable": true
   },
   "outputs": [],
   "source": [
    "import numpy"
   ]
  },
  {
   "cell_type": "code",
   "execution_count": 9,
   "metadata": {
    "collapsed": true,
    "deletable": true,
    "editable": true
   },
   "outputs": [],
   "source": [
    "import sklearn"
   ]
  },
  {
   "cell_type": "code",
   "execution_count": 11,
   "metadata": {
    "collapsed": true,
    "deletable": true,
    "editable": true
   },
   "outputs": [],
   "source": [
    "import nltk"
   ]
  },
  {
   "cell_type": "code",
   "execution_count": 10,
   "metadata": {
    "collapsed": false,
    "deletable": true,
    "editable": true
   },
   "outputs": [
    {
     "ename": "ImportError",
     "evalue": "No module named 'fasttext'",
     "output_type": "error",
     "traceback": [
      "\u001b[0;31m---------------------------------------------------------------------------\u001b[0m",
      "\u001b[0;31mImportError\u001b[0m                               Traceback (most recent call last)",
      "\u001b[0;32m<ipython-input-10-b11048f33154>\u001b[0m in \u001b[0;36m<module>\u001b[0;34m()\u001b[0m\n\u001b[0;32m----> 1\u001b[0;31m \u001b[0;32mimport\u001b[0m \u001b[0mfasttext\u001b[0m\u001b[0;34m\u001b[0m\u001b[0m\n\u001b[0m",
      "\u001b[0;31mImportError\u001b[0m: No module named 'fasttext'"
     ]
    }
   ],
   "source": [
    "import fasttext"
   ]
  },
  {
   "cell_type": "code",
   "execution_count": 18,
   "metadata": {
    "collapsed": false,
    "deletable": true,
    "editable": true
   },
   "outputs": [
    {
     "ename": "ImportError",
     "evalue": "No module named 'xgboost'",
     "output_type": "error",
     "traceback": [
      "\u001b[0;31m---------------------------------------------------------------------------\u001b[0m",
      "\u001b[0;31mImportError\u001b[0m                               Traceback (most recent call last)",
      "\u001b[0;32m<ipython-input-18-afdaff4619ce>\u001b[0m in \u001b[0;36m<module>\u001b[0;34m()\u001b[0m\n\u001b[0;32m----> 1\u001b[0;31m \u001b[0;32mimport\u001b[0m \u001b[0mxgboost\u001b[0m\u001b[0;34m\u001b[0m\u001b[0m\n\u001b[0m",
      "\u001b[0;31mImportError\u001b[0m: No module named 'xgboost'"
     ]
    }
   ],
   "source": [
    "import xgboost"
   ]
  },
  {
   "cell_type": "code",
   "execution_count": 12,
   "metadata": {
    "collapsed": false,
    "deletable": true,
    "editable": true
   },
   "outputs": [
    {
     "ename": "ImportError",
     "evalue": "No module named 'spacy'",
     "output_type": "error",
     "traceback": [
      "\u001b[0;31m---------------------------------------------------------------------------\u001b[0m",
      "\u001b[0;31mImportError\u001b[0m                               Traceback (most recent call last)",
      "\u001b[0;32m<ipython-input-12-c080f6458562>\u001b[0m in \u001b[0;36m<module>\u001b[0;34m()\u001b[0m\n\u001b[0;32m----> 1\u001b[0;31m \u001b[0;32mimport\u001b[0m \u001b[0mspacy\u001b[0m\u001b[0;34m\u001b[0m\u001b[0m\n\u001b[0m",
      "\u001b[0;31mImportError\u001b[0m: No module named 'spacy'"
     ]
    }
   ],
   "source": [
    "import spacy"
   ]
  },
  {
   "cell_type": "code",
   "execution_count": 13,
   "metadata": {
    "collapsed": false,
    "deletable": true,
    "editable": true
   },
   "outputs": [
    {
     "ename": "ImportError",
     "evalue": "No module named 'gensim'",
     "output_type": "error",
     "traceback": [
      "\u001b[0;31m---------------------------------------------------------------------------\u001b[0m",
      "\u001b[0;31mImportError\u001b[0m                               Traceback (most recent call last)",
      "\u001b[0;32m<ipython-input-13-ec15f3ffe0f1>\u001b[0m in \u001b[0;36m<module>\u001b[0;34m()\u001b[0m\n\u001b[0;32m----> 1\u001b[0;31m \u001b[0;32mimport\u001b[0m \u001b[0mgensim\u001b[0m\u001b[0;34m\u001b[0m\u001b[0m\n\u001b[0m",
      "\u001b[0;31mImportError\u001b[0m: No module named 'gensim'"
     ]
    }
   ],
   "source": [
    "import gensim"
   ]
  },
  {
   "cell_type": "code",
   "execution_count": 14,
   "metadata": {
    "collapsed": false,
    "deletable": true,
    "editable": true
   },
   "outputs": [
    {
     "ename": "ImportError",
     "evalue": "No module named 'lightgbm'",
     "output_type": "error",
     "traceback": [
      "\u001b[0;31m---------------------------------------------------------------------------\u001b[0m",
      "\u001b[0;31mImportError\u001b[0m                               Traceback (most recent call last)",
      "\u001b[0;32m<ipython-input-14-bd597743fb90>\u001b[0m in \u001b[0;36m<module>\u001b[0;34m()\u001b[0m\n\u001b[0;32m----> 1\u001b[0;31m \u001b[0;32mimport\u001b[0m \u001b[0mlightgbm\u001b[0m\u001b[0;34m\u001b[0m\u001b[0m\n\u001b[0m",
      "\u001b[0;31mImportError\u001b[0m: No module named 'lightgbm'"
     ]
    }
   ],
   "source": [
    "import lightgbm"
   ]
  },
  {
   "cell_type": "code",
   "execution_count": 17,
   "metadata": {
    "collapsed": false,
    "deletable": true,
    "editable": true
   },
   "outputs": [
    {
     "name": "stdout",
     "output_type": "stream",
     "text": [
      "Requirement already satisfied: fasttext in /Users/alexruppelt/anaconda/envs/ucu-sentiment/lib/python3.5/site-packages\n",
      "Requirement already satisfied: gensim in /Users/alexruppelt/anaconda/envs/ucu-sentiment/lib/python3.5/site-packages\n",
      "Requirement already satisfied: lightgbm in /Users/alexruppelt/anaconda/envs/ucu-sentiment/lib/python3.5/site-packages\n",
      "Requirement already satisfied: spacy in /Users/alexruppelt/anaconda/envs/ucu-sentiment/lib/python3.5/site-packages\n",
      "Requirement already satisfied: textblob in /Users/alexruppelt/anaconda/envs/ucu-sentiment/lib/python3.5/site-packages\n",
      "Collecting vaderSentiment\n",
      "  Downloading vaderSentiment-2.5-py2.py3-none-any.whl (102kB)\n",
      "\u001b[K    100% |████████████████████████████████| 112kB 999kB/s ta 0:00:01\n",
      "\u001b[?25hRequirement already satisfied: numpy>=1 in /Users/alexruppelt/anaconda/envs/ucu-sentiment/lib/python3.5/site-packages (from fasttext)\n",
      "Requirement already satisfied: future in /Users/alexruppelt/anaconda/envs/ucu-sentiment/lib/python3.5/site-packages (from fasttext)\n",
      "Requirement already satisfied: smart-open>=1.2.1 in /Users/alexruppelt/anaconda/envs/ucu-sentiment/lib/python3.5/site-packages (from gensim)\n",
      "Requirement already satisfied: six>=1.5.0 in /Users/alexruppelt/anaconda/envs/ucu-sentiment/lib/python3.5/site-packages (from gensim)\n",
      "Requirement already satisfied: scipy>=0.19.0 in /Users/alexruppelt/anaconda/envs/ucu-sentiment/lib/python3.5/site-packages (from gensim)\n",
      "Requirement already satisfied: scikit-learn in /Users/alexruppelt/anaconda/envs/ucu-sentiment/lib/python3.5/site-packages (from lightgbm)\n",
      "Requirement already satisfied: wheel in /Users/alexruppelt/anaconda/envs/ucu-sentiment/lib/python3.5/site-packages (from lightgbm)\n",
      "Requirement already satisfied: pathlib in /Users/alexruppelt/anaconda/envs/ucu-sentiment/lib/python3.5/site-packages (from spacy)\n",
      "Requirement already satisfied: cymem<1.32,>=1.30 in /Users/alexruppelt/anaconda/envs/ucu-sentiment/lib/python3.5/site-packages (from spacy)\n",
      "Requirement already satisfied: ftfy<5.0.0,>=4.4.2 in /Users/alexruppelt/anaconda/envs/ucu-sentiment/lib/python3.5/site-packages (from spacy)\n",
      "Requirement already satisfied: requests<3.0.0,>=2.13.0 in /Users/alexruppelt/anaconda/envs/ucu-sentiment/lib/python3.5/site-packages (from spacy)\n",
      "Requirement already satisfied: murmurhash<0.27,>=0.26 in /Users/alexruppelt/anaconda/envs/ucu-sentiment/lib/python3.5/site-packages (from spacy)\n",
      "Requirement already satisfied: plac<1.0.0,>=0.9.6 in /Users/alexruppelt/anaconda/envs/ucu-sentiment/lib/python3.5/site-packages (from spacy)\n",
      "Requirement already satisfied: thinc<6.6.0,>=6.5.0 in /Users/alexruppelt/anaconda/envs/ucu-sentiment/lib/python3.5/site-packages (from spacy)\n",
      "Requirement already satisfied: preshed<2.0.0,>=1.0.0 in /Users/alexruppelt/anaconda/envs/ucu-sentiment/lib/python3.5/site-packages (from spacy)\n",
      "Requirement already satisfied: regex==2017.4.5 in /Users/alexruppelt/anaconda/envs/ucu-sentiment/lib/python3.5/site-packages (from spacy)\n",
      "Requirement already satisfied: dill<0.3,>=0.2 in /Users/alexruppelt/anaconda/envs/ucu-sentiment/lib/python3.5/site-packages (from spacy)\n",
      "Requirement already satisfied: ujson>=1.35 in /Users/alexruppelt/anaconda/envs/ucu-sentiment/lib/python3.5/site-packages (from spacy)\n",
      "Requirement already satisfied: nltk>=3.1 in /Users/alexruppelt/anaconda/envs/ucu-sentiment/lib/python3.5/site-packages (from textblob)\n",
      "Requirement already satisfied: boto>=2.32 in /Users/alexruppelt/anaconda/envs/ucu-sentiment/lib/python3.5/site-packages (from smart-open>=1.2.1->gensim)\n",
      "Requirement already satisfied: bz2file in /Users/alexruppelt/anaconda/envs/ucu-sentiment/lib/python3.5/site-packages (from smart-open>=1.2.1->gensim)\n",
      "Requirement already satisfied: html5lib in /Users/alexruppelt/anaconda/envs/ucu-sentiment/lib/python3.5/site-packages (from ftfy<5.0.0,>=4.4.2->spacy)\n",
      "Requirement already satisfied: wcwidth in /Users/alexruppelt/anaconda/envs/ucu-sentiment/lib/python3.5/site-packages (from ftfy<5.0.0,>=4.4.2->spacy)\n",
      "Requirement already satisfied: cytoolz<0.9,>=0.8 in /Users/alexruppelt/anaconda/envs/ucu-sentiment/lib/python3.5/site-packages (from thinc<6.6.0,>=6.5.0->spacy)\n",
      "Requirement already satisfied: wrapt in /Users/alexruppelt/anaconda/envs/ucu-sentiment/lib/python3.5/site-packages (from thinc<6.6.0,>=6.5.0->spacy)\n",
      "Requirement already satisfied: termcolor in /Users/alexruppelt/anaconda/envs/ucu-sentiment/lib/python3.5/site-packages (from thinc<6.6.0,>=6.5.0->spacy)\n",
      "Requirement already satisfied: tqdm<5.0.0,>=4.10.0 in /Users/alexruppelt/anaconda/envs/ucu-sentiment/lib/python3.5/site-packages (from thinc<6.6.0,>=6.5.0->spacy)\n",
      "Installing collected packages: vaderSentiment\n",
      "Successfully installed vaderSentiment-2.5\n"
     ]
    }
   ],
   "source": [
    "!pip install fasttext gensim lightgbm spacy textblob vaderSentiment"
   ]
  },
  {
   "cell_type": "code",
   "execution_count": null,
   "metadata": {
    "collapsed": true
   },
   "outputs": [],
   "source": []
  }
 ],
 "metadata": {
  "anaconda-cloud": {},
  "kernelspec": {
   "display_name": "Python 3",
   "language": "python",
   "name": "python3"
  },
  "language_info": {
   "codemirror_mode": {
    "name": "ipython",
    "version": 3
   },
   "file_extension": ".py",
   "mimetype": "text/x-python",
   "name": "python",
   "nbconvert_exporter": "python",
   "pygments_lexer": "ipython3",
   "version": "3.5.3"
  }
 },
 "nbformat": 4,
 "nbformat_minor": 1
}

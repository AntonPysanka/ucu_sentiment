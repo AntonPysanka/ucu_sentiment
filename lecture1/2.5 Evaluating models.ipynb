{
 "cells": [
  {
   "cell_type": "markdown",
   "metadata": {
    "deletable": true,
    "editable": true
   },
   "source": [
    "# Evaluating Models"
   ]
  },
  {
   "cell_type": "markdown",
   "metadata": {
    "deletable": true,
    "editable": true
   },
   "source": [
    "Model evaluation is not just the end point of our machine learning pipeline. Before we handle any data, we want to plan ahead and use techniques and metrics that are suited for our purposes.\n",
    "\n",
    "In this tutorial we will go over some of these techniques and metrics and we will see how they fit into a typical machine learning workflow.\n",
    "\n",
    "### <a name=\"1\"></a> 1. Model Evaluation Applications\n",
    "Let's start with a question: **\"Why do we care about performance estimates at all?\"**\n",
    "\n",
    "<a name=\"1.1\"></a>**Generalization performance** - We want to estimate the predictive performance of our model on future (unseen) data.\n",
    "- Ideally, the estimated performance of a model tells how well it performs on unseen data – making predictions on future data is often the main problem we want to solve.\n",
    "\n",
    "<a name=\"1.2\"></a>**Model selection** - We want to increase the predictive performance by tweaking the learning algorithm and selecting the best performing model from a given hypothesis space.\n",
    "- Typically, machine learning involves a lot of experimentation. Running a learning algorithm over a training dataset with different hyperparameter settings and different features will result in different models. Since we are typically interested in selecting the best-performing model from this set, we need to find a way to estimate their respective performances in order to rank them against each other.\n",
    "\n",
    "<a name=\"1.3\"></a>**Algorithm selection** - We want to compare different ML algorithms, selecting the best-performing one.\n",
    "- We are usually not only experimenting with the one single algorithm that we think would be the “best solution” under the given circumstances. More often than not, we want to compare different algorithms to each other, oftentimes in terms of predictive and computational performance.\n",
    "\n",
    "Although these three sub-tasks have all in common that we want to estimate the performance of a model, they all require different approaches. \n",
    "\n",
    "This tutorial will focus on **supervised learning**, a subcategory of machine learning where our target values are known in our available dataset. Although many concepts also apply to regression analysis, we will focus on **classification**, the assignment of categorical target labels to the samples."
   ]
  },
  {
   "cell_type": "markdown",
   "metadata": {
    "deletable": true,
    "editable": true
   },
   "source": [
    "### <a name=\"2\"></a>2. Model Evaluation Techniques\n",
    "#### <a name=\"2.1\"></a>Holdout method (simple train/test split)\n",
    "The holdout method is the simplest model evaluation technique. We take our labeled dataset and split it randomly into two parts: A **training set** and a **test set**\n",
    "<img src=\"https://sebastianraschka.com/images/blog/2016/model-evaluation-selection-part1/testing_01.png\" width=\"500\">\n",
    "Then, we fit a model to the training data and predict the labels of the test set.\n",
    "<img src=\"https://sebastianraschka.com/images/blog/2016/model-evaluation-selection-part1/testing_02.png\" width=\"500\">\n",
    "And the fraction of correct predictions constitutes our estimate of the prediction accuracy.\n",
    "<img src=\"https://sebastianraschka.com/images/blog/2016/model-evaluation-selection-part1/testing_03.png\" width=\"500\">\n",
    "We really don’t want to train and evaluate our model on the same training dataset, since it would introduce **overfitting**. In other words, we can’t tell whether the model simply memorized the training data or not, or whether it generalizes well to new, unseen data.\n",
    "\n",
    "##### Pros:\n",
    "    + Simple\n",
    "    + Fast\n",
    "\n",
    "##### Cons:\n",
    "    - Not so precise estimate of out-of-sample performance comparing to more advanced techniques"
   ]
  },
  {
   "cell_type": "code",
   "execution_count": 1,
   "metadata": {
    "collapsed": false,
    "deletable": true,
    "editable": true,
    "scrolled": true
   },
   "outputs": [
    {
     "data": {
      "text/plain": [
       "(152610, 2)"
      ]
     },
     "execution_count": 1,
     "metadata": {},
     "output_type": "execute_result"
    }
   ],
   "source": [
    "# import data\n",
    "import pandas as pd\n",
    "\n",
    "df = pd.read_csv('../data/movie_reviews.csv')\n",
    "\n",
    "df_new = pd.read_csv('../data/test.csv')\n",
    "X_test_new, y_test_new = df_new.text, df_new.label\n",
    "\n",
    "# check number of rows & columns\n",
    "df.shape"
   ]
  },
  {
   "cell_type": "code",
   "execution_count": 2,
   "metadata": {
    "collapsed": true,
    "deletable": true,
    "editable": true
   },
   "outputs": [],
   "source": [
    "# split dataset to Train and Test parts\n",
    "from sklearn.model_selection import train_test_split\n",
    "\n",
    "X, y = df.text, df.label\n",
    "X_train, X_test, y_train, y_test = train_test_split(X, y,\n",
    "                                                    test_size=0.1,\n",
    "                                                    random_state=42)"
   ]
  },
  {
   "cell_type": "code",
   "execution_count": 3,
   "metadata": {
    "collapsed": false,
    "deletable": true,
    "editable": true
   },
   "outputs": [
    {
     "name": "stdout",
     "output_type": "stream",
     "text": [
      "CPU times: user 1min 41s, sys: 1.95 s, total: 1min 43s\n",
      "Wall time: 34.7 s\n"
     ]
    }
   ],
   "source": [
    "# fit a model to the training data\n",
    "from sklearn.feature_extraction.text import CountVectorizer\n",
    "from sklearn.linear_model import LogisticRegression\n",
    "from sklearn.pipeline import Pipeline\n",
    "\n",
    "vectorizer = CountVectorizer(binary=True)\n",
    "classifier = LogisticRegression(class_weight='balanced')\n",
    "\n",
    "pipeline = Pipeline([('vectorizer', vectorizer),\n",
    "                     ('classifier', classifier)])\n",
    "\n",
    "%time model = pipeline.fit(X_train, y_train)"
   ]
  },
  {
   "cell_type": "code",
   "execution_count": 4,
   "metadata": {
    "collapsed": false,
    "deletable": true,
    "editable": true
   },
   "outputs": [],
   "source": [
    "# predict the labels of the test set\n",
    "y_pred = model.predict(X_test)"
   ]
  },
  {
   "cell_type": "code",
   "execution_count": 5,
   "metadata": {
    "collapsed": false,
    "deletable": true,
    "editable": true
   },
   "outputs": [
    {
     "name": "stdout",
     "output_type": "stream",
     "text": [
      "Accuracy: 0.819343424415\n"
     ]
    }
   ],
   "source": [
    "# compute prediction accuracy\n",
    "from sklearn import metrics\n",
    "\n",
    "print(\"Accuracy:\", metrics.accuracy_score(y_test, y_pred))"
   ]
  },
  {
   "cell_type": "markdown",
   "metadata": {
    "deletable": true,
    "editable": true
   },
   "source": [
    "### <a name=\"2.2\"></a>K-fold Cross-validation\n",
    "K-fold Cross-validation is probably the most common technique for model evaluation and model selection. \n",
    "- We split the dataset into *K* parts and iterate over a dataset set *K* times\n",
    "- In each round one part is used for validation, and the remaining *K-1* parts are merged into a training subset for model evaluation\n",
    "- We compute the cross-validation performance as the arithmetic mean over the *K* performance estimates from the validation sets.\n",
    "<img src=\"https://sebastianraschka.com/images/blog/2016/model-evaluation-selection-part3/kfold.png\" width=\"500\">\n",
    "\n",
    "##### Pros:\n",
    "    + Better estimate of out-of-sample performance than simple train/test split\n",
    "\n",
    "##### Cons:\n",
    "    - Runs \"K\" times slower than simple train/test split\n",
    "\n",
    "If we have **little data** and **enough time**, it's better to always do cross-validation for a more precise estimate of performance.\n",
    "\n",
    "In the following example we will apply k-fold cross validation for Model Selection using *GridSearchCV* function.\n",
    "\n",
    "> #### GridSearchCV main parameters\n",
    ">*sklearn.model_selection.GridSearchCV*\n",
    "\n",
    ">**param_grid**: dict or list of dictionaries.\n",
    "Dictionary with parameters names (string) as keys and lists of parameter settings to try as values, or a list of such dictionaries, in which case the grids spanned by each dictionary in the list are explored. This enables searching over any sequence of parameter settings.\n",
    "\n",
    ">**cv**: int, cross-validation generator or an iterable, optional.\n",
    "Determines the cross-validation splitting strategy.\n",
    "\n",
    ">**scoring**: string, callable or None, default=None.\n",
    "Controls what metric to apply to the estimators evaluated"
   ]
  },
  {
   "cell_type": "code",
   "execution_count": 6,
   "metadata": {
    "collapsed": false,
    "deletable": true,
    "editable": true
   },
   "outputs": [
    {
     "name": "stdout",
     "output_type": "stream",
     "text": [
      "CPU times: user 4min 37s, sys: 5.13 s, total: 4min 42s\n",
      "Wall time: 2min 54s\n"
     ]
    },
    {
     "data": {
      "text/plain": [
       "GridSearchCV(cv=3, error_score='raise',\n",
       "       estimator=Pipeline(steps=[('vectorizer', CountVectorizer(analyzer='word', binary=True, decode_error='strict',\n",
       "        dtype=<class 'numpy.int64'>, encoding='utf-8', input='content',\n",
       "        lowercase=True, max_df=1.0, max_features=None, min_df=1,\n",
       "        ngram_range=(1, 1), preprocessor=None, stop_words=None,\n",
       "        ...ty='l2', random_state=None,\n",
       "          solver='liblinear', tol=0.0001, verbose=0, warm_start=False))]),\n",
       "       fit_params={}, iid=True, n_jobs=1,\n",
       "       param_grid={'classifier__C': [0.1, 0.01]}, pre_dispatch='2*n_jobs',\n",
       "       refit=True, return_train_score=True, scoring=None, verbose=0)"
      ]
     },
     "execution_count": 6,
     "metadata": {},
     "output_type": "execute_result"
    }
   ],
   "source": [
    "# fit model \n",
    "from sklearn.model_selection import GridSearchCV\n",
    "\n",
    "params = dict(classifier__C=[0.1, 0.01])\n",
    "grid_search = GridSearchCV(pipeline, param_grid=params, cv=3)\n",
    "\n",
    "%time grid_search.fit(X,y)"
   ]
  },
  {
   "cell_type": "code",
   "execution_count": 7,
   "metadata": {
    "collapsed": false,
    "deletable": true,
    "editable": true
   },
   "outputs": [
    {
     "data": {
      "text/plain": [
       "{'classifier__C': 0.1}"
      ]
     },
     "execution_count": 7,
     "metadata": {},
     "output_type": "execute_result"
    }
   ],
   "source": [
    "# Best parameters found:\n",
    "grid_search.best_params_"
   ]
  },
  {
   "cell_type": "code",
   "execution_count": 8,
   "metadata": {
    "collapsed": false,
    "deletable": true,
    "editable": true
   },
   "outputs": [
    {
     "name": "stdout",
     "output_type": "stream",
     "text": [
      "Validation Accuracy 0.757761614573\n"
     ]
    }
   ],
   "source": [
    "# Average accuracy over K folds for best parameters set\n",
    "print(\"Validation Accuracy\", grid_search.best_score_)"
   ]
  },
  {
   "cell_type": "code",
   "execution_count": 9,
   "metadata": {
    "collapsed": false,
    "deletable": true,
    "editable": true
   },
   "outputs": [
    {
     "name": "stdout",
     "output_type": "stream",
     "text": [
      "Test Accuracy: 0.798123827392\n"
     ]
    }
   ],
   "source": [
    "# Let's check how our model will generalize to unseen data\n",
    "y_pred_new = grid_search.predict(X_test_new)\n",
    "\n",
    "print(\"Test Accuracy:\", metrics.accuracy_score(y_test_new, y_pred_new))"
   ]
  },
  {
   "cell_type": "markdown",
   "metadata": {
    "deletable": true,
    "editable": true
   },
   "source": [
    "### <a name=\"3\"></a>3. Classification metrics overview\n",
    "Classification problems are probably the most common type of ML problem and as such there are many metrics that can be used to evaluate predictions for these problems. We will review some of them.\n",
    "\n",
    "### <a name=\"3.1\"></a>Accuracy\n",
    "Accuracy simply measures *what percent of your predictions were correct*. It's the ratio between the number of correct predictions and the total number of predictions.\n",
    "\n",
    "$$accuracy = {\\frac{\\#\\ correct}{\\#\\ predictions}}$$"
   ]
  },
  {
   "cell_type": "code",
   "execution_count": 10,
   "metadata": {
    "collapsed": false,
    "deletable": true,
    "editable": true
   },
   "outputs": [
    {
     "name": "stdout",
     "output_type": "stream",
     "text": [
      "0.819343424415\n"
     ]
    }
   ],
   "source": [
    "# calculate accuracy\n",
    "print(metrics.accuracy_score(y_test, y_pred))"
   ]
  },
  {
   "cell_type": "markdown",
   "metadata": {
    "deletable": true,
    "editable": true
   },
   "source": [
    "Accuracy is also the most misused metric. It is really **only suitable** when there are an *equal number of observations in each class* (which is rarely the case) and that all *predictions and prediction errors are equally important*, which is often not the case.\n",
    "\n",
    "### <a name=\"3.2\"></a>Confusion Matrix\n",
    "The confusion matrix is a handy presentation of the accuracy of a model with 2 or more classes. The table **presents predictions** on the x-axis and **accuracy outcomes** on the y-axis. The cells of the table are the number of predictions made by a machine learning algorithm."
   ]
  },
  {
   "cell_type": "code",
   "execution_count": 11,
   "metadata": {
    "collapsed": false,
    "deletable": true,
    "editable": true
   },
   "outputs": [
    {
     "name": "stdout",
     "output_type": "stream",
     "text": [
      "[[10012  2535]\n",
      " [ 2979 14996]]\n"
     ]
    }
   ],
   "source": [
    "# first argument is true values, second argument is predicted values\n",
    "# this produces a 2x2 numpy array (matrix)\n",
    "conf = metrics.confusion_matrix(y_test, y_pred)\n",
    "print(conf)"
   ]
  },
  {
   "cell_type": "markdown",
   "metadata": {
    "deletable": true,
    "editable": true
   },
   "source": [
    "|                | Predicted Negative | Predicted Positive |\n",
    "|:--------------:|--------------------|--------------------|\n",
    "| **Negative Cases** |      TN: 9324      |      FP: 3266      |\n",
    "| **Positive Cases** |      FN: 2288      |      TP: 15644     |\n",
    "\n",
    "- **True Positives (TP)**:\n",
    "We correctly predicted that the reviews are positive: **15644**\n",
    "- **True Negatives (TN)**:\n",
    "We correctly predicted that the reviews are negative: **9324**\n",
    "- **False Positives (FP)**:\n",
    "We incorrectly predicted that the reviews are positive: **3266**\n",
    "- **False Negatives (FN)**:\n",
    "We incorrectly predicted that the reviews are negative: **2288**\n",
    "\n",
    "\n",
    "\n",
    "Confusion matrix allows you to compute various classification metrics, and these metrics can guide your model selection. "
   ]
  },
  {
   "cell_type": "code",
   "execution_count": 12,
   "metadata": {
    "collapsed": true,
    "deletable": true,
    "editable": true
   },
   "outputs": [],
   "source": [
    "# slice confusion matrix into four pieces for future use\n",
    "TP = conf[1, 1]\n",
    "TN = conf[0, 0]\n",
    "FP = conf[0, 1]\n",
    "FN = conf[1, 0]"
   ]
  },
  {
   "cell_type": "markdown",
   "metadata": {
    "deletable": true,
    "editable": true
   },
   "source": [
    "You can learn more about the [Confusion Matrix on the Wikipedia article](https://en.wikipedia.org/wiki/Confusion_matrix).\n",
    "\n",
    "\n",
    "### <a name=\"3.3\"></a>Precision & Recall\n",
    "Precision and recall are actually two metrics. But they are often used together.\n",
    "\n",
    "**Precision** answers the question: *What percent of positive predictions were correct?*\n",
    "\n",
    "$$precision = {\\frac{\\#\\ true\\ positive}{\\#\\ true\\ positive + \\#\\ false\\ positive}}$$\n",
    "\n",
    "**Recall** answers the question: *What percent of the positive cases did you catch?*\n",
    "\n",
    "\n",
    "$$recall = {\\frac{\\#\\ true\\ positive}{\\#\\ true\\ positive + \\#\\ false\\ negative}}$$\n",
    "\n",
    "![](http://www.kdnuggets.com/images/precision-recall-relevant-selected.jpg)\n",
    "\n",
    "See also a very good explanation of [Precision and recall](https://en.wikipedia.org/wiki/Precision_and_recall) in Wikipedia.\n",
    "\n",
    "[To the table of contents](#0)"
   ]
  },
  {
   "cell_type": "code",
   "execution_count": 13,
   "metadata": {
    "collapsed": false,
    "deletable": true,
    "editable": true
   },
   "outputs": [
    {
     "name": "stdout",
     "output_type": "stream",
     "text": [
      "0.855399007472\n",
      "0.855399007472\n"
     ]
    }
   ],
   "source": [
    "# calculate precision\n",
    "precision = TP / float(TP + FP)\n",
    "\n",
    "print(precision)\n",
    "print(metrics.precision_score(y_test, y_pred))"
   ]
  },
  {
   "cell_type": "markdown",
   "metadata": {
    "deletable": true,
    "editable": true
   },
   "source": [
    "### <a name=\"3.4\"></a>F1-score\n",
    "The F1-score (sometimes known as the balanced F-beta score) is a single metric that combines both precision and recall via their harmonic mean:\n",
    "\n",
    "$$F_1 = 2 {\\frac{precision * recall}{precision + recall}}$$\n",
    "\n",
    "Unlike the arithmetic mean, the harmonic mean tends toward the smaller of the two elements. Hence the F1 score will be small if either precision or recall is small.\n"
   ]
  },
  {
   "cell_type": "code",
   "execution_count": 15,
   "metadata": {
    "collapsed": false,
    "deletable": true,
    "editable": true
   },
   "outputs": [
    {
     "name": "stdout",
     "output_type": "stream",
     "text": [
      "0.844702303836\n"
     ]
    }
   ],
   "source": [
    "# calculate f1-score\n",
    "#f1 = 2 * precision * recall / (precision + recall)\n",
    "\n",
    "#print(f1)\n",
    "print(metrics.f1_score(y_test, y_pred))"
   ]
  },
  {
   "cell_type": "markdown",
   "metadata": {
    "deletable": true,
    "editable": true
   },
   "source": [
    "### <a name=\"3.5\"></a>Classification Report\n",
    "Scikit-learn does provide a convenience report when working on classification problems to give you a quick idea of the accuracy of a model using a number of measures.\n",
    "\n",
    "The **classification_report()** function displays the precision, recall, f1-score and support for each class. (*support* is the number of occurrences of each class in *y_true*)\n",
    "\n",
    "[To the table of contents](#0)"
   ]
  },
  {
   "cell_type": "code",
   "execution_count": 16,
   "metadata": {
    "collapsed": false,
    "deletable": true,
    "editable": true
   },
   "outputs": [
    {
     "name": "stdout",
     "output_type": "stream",
     "text": [
      "             precision    recall  f1-score   support\n",
      "\n",
      "          0       0.77      0.80      0.78     12547\n",
      "          1       0.86      0.83      0.84     17975\n",
      "\n",
      "avg / total       0.82      0.82      0.82     30522\n",
      "\n"
     ]
    }
   ],
   "source": [
    "# print a report on the binary classification problem\n",
    "print(metrics.classification_report(y_test, y_pred))"
   ]
  },
  {
   "cell_type": "markdown",
   "metadata": {
    "deletable": true,
    "editable": true
   },
   "source": [
    "### <a name=\"4\"></a>4. Choice of Metrics\n",
    "Depending on your application, you may want to consider different performance metrics. Choice of metric depends on your business objective and on the data you have at hand.\n",
    "\n",
    "In many cases **accuracy** alone will be enough. It is suitable when the data is balanced (equal number of observations in each class) and when minimizing *False Positives* and *False Negatives* is equally important.\n",
    "\n",
    "If that is not the case:\n",
    "\n",
    "- Identify if FP or FN is more important to reduce\n",
    "- Choose metric with relevant variable (FP or FN) in the equation\n",
    "\n",
    "##### Case 1: Spam filter (positive class is \"spam\")\n",
    "FN (spam goes to the inbox) are more acceptable than FP (non-spam is caught by the spam filter) => Choose **FP** as a variable, optimize for **precision**\n",
    "\n",
    "##### Case 2: Fraudulent transaction detector (positive class is \"fraud\")\n",
    "FP (normal transactions that are flagged as possible fraud) are more acceptable than FN (fraudulent transactions that are not detected) => Choose **FN** as a variable, optimize for **recall**\n",
    "\n",
    "\n",
    "---\n",
    "### <a name=\"5\"></a>Summary\n",
    "In this tutorial we briefly explored applications, techniques and metrics of model evaluation. We learned about 3 tasks of model evaluation:\n",
    "- Estimating model performance\n",
    "- Model selection\n",
    "- Algorithm selection\n",
    "\n",
    "2 common techniques:\n",
    "- Simple train/test split (Holdout validation)\n",
    "- K-fold cross-validation\n",
    "\n",
    "About 4 classification metrics:\n",
    "- Accuracy\n",
    "- Precision & Recall\n",
    "- F-1 score\n",
    "\n",
    "Also 2 convenience methods for classification prediction results:\n",
    "- Confusion matrix\n",
    "- Classification report\n",
    "\n",
    "And about choosing the right metric.\n",
    "\n",
    "#### Thank you!"
   ]
  },
  {
   "cell_type": "code",
   "execution_count": null,
   "metadata": {
    "collapsed": true,
    "deletable": true,
    "editable": true
   },
   "outputs": [],
   "source": []
  }
 ],
 "metadata": {
  "anaconda-cloud": {},
  "kernelspec": {
   "display_name": "Python 3",
   "language": "python",
   "name": "python3"
  },
  "language_info": {
   "codemirror_mode": {
    "name": "ipython",
    "version": 3
   },
   "file_extension": ".py",
   "mimetype": "text/x-python",
   "name": "python",
   "nbconvert_exporter": "python",
   "pygments_lexer": "ipython3",
   "version": "3.5.3"
  }
 },
 "nbformat": 4,
 "nbformat_minor": 2
}
